{
 "cells": [
  {
   "cell_type": "code",
   "execution_count": 43,
   "id": "3cd56bde",
   "metadata": {},
   "outputs": [
    {
     "name": "stdout",
     "output_type": "stream",
     "text": [
      "        One       Two     Three\n",
      "a  0.649947  0.568017  0.331999\n",
      "b       NaN       NaN       NaN\n",
      "c  0.094055 -0.691737 -0.388570\n",
      "d -0.381560  0.737908 -0.151570\n",
      "e       NaN       NaN       NaN\n",
      "f -0.226176  1.057405  0.596496\n"
     ]
    }
   ],
   "source": [
    "import pandas as pd\n",
    "import numpy as np\n",
    "df=pd.DataFrame(np.random.randn(4,3),index=['a','c','d','f'],columns=['One','Two','Three'])\n",
    "df=df.reindex(['a','b','c','d','e','f'])\n",
    "print(df)\n",
    "x=df"
   ]
  },
  {
   "cell_type": "code",
   "execution_count": 44,
   "id": "a1a343d5",
   "metadata": {},
   "outputs": [
    {
     "name": "stdout",
     "output_type": "stream",
     "text": [
      "        One       Two     Three\n",
      "a  0.649947  0.568017  0.331999\n",
      "c  0.094055 -0.691737 -0.388570\n",
      "d -0.381560  0.737908 -0.151570\n",
      "f -0.226176  1.057405  0.596496\n"
     ]
    }
   ],
   "source": [
    "print(df.dropna())"
   ]
  },
  {
   "cell_type": "code",
   "execution_count": 45,
   "id": "4c8dc6ce",
   "metadata": {},
   "outputs": [
    {
     "name": "stdout",
     "output_type": "stream",
     "text": [
      "        One       Two     Three\n",
      "a -0.673327  1.202431  0.296038\n",
      "b  0.230597 -0.707126 -1.077404\n",
      "d  0.661325  0.631228 -1.070213\n",
      "f  0.370654 -1.013557  1.984493\n",
      "        One       Two     Three\n",
      "a -0.673327  1.202431  0.296038\n",
      "b  0.230597 -0.707126 -1.077404\n",
      "c       NaN       NaN       NaN\n",
      "        One       Two     Three\n",
      "a -0.673327  1.202431  0.296038\n",
      "b  0.230597 -0.707126 -1.077404\n",
      "c  0.000000  0.000000  0.000000\n"
     ]
    }
   ],
   "source": [
    "df=pd.DataFrame(np.random.randn(4,3),index=['a','b','d','f'],columns=['One','Two','Three'])\n",
    "print(df)\n",
    "df=df.reindex(['a','b','c'])\n",
    "print(df)\n",
    "print(df.fillna(0))"
   ]
  },
  {
   "cell_type": "code",
   "execution_count": 46,
   "id": "8d9f3049",
   "metadata": {},
   "outputs": [
    {
     "name": "stdout",
     "output_type": "stream",
     "text": [
      "   one  two\n",
      "0   10   60\n",
      "1   20   70\n",
      "2   30   80\n",
      "3   40    0\n",
      "4   50   10\n",
      "   one  two\n",
      "0    5   60\n",
      "1   20   70\n",
      "2   30    3\n",
      "3   40    0\n",
      "4   50    5\n",
      "\n"
     ]
    }
   ],
   "source": [
    "df=pd.DataFrame({'one':[10,20,30,40,50],'two':[60,70,80,0,10]})\n",
    "print(df)\n",
    "print(df.replace({10:5,80:3}))\n",
    "print()"
   ]
  },
  {
   "cell_type": "code",
   "execution_count": 47,
   "id": "8720cf98",
   "metadata": {},
   "outputs": [
    {
     "name": "stdout",
     "output_type": "stream",
     "text": [
      "Original DataFrame:\n",
      "         One       Two     Three\n",
      "a  0.649947  0.568017  0.331999\n",
      "b       NaN       NaN       NaN\n",
      "c  0.094055 -0.691737 -0.388570\n",
      "d -0.381560  0.737908 -0.151570\n",
      "e       NaN       NaN       NaN\n",
      "f -0.226176  1.057405  0.596496\n",
      "\n",
      "Nan with time fill:\n",
      "a    False\n",
      "b     True\n",
      "c    False\n",
      "d    False\n",
      "e     True\n",
      "f    False\n",
      "Name: One, dtype: bool\n"
     ]
    }
   ],
   "source": [
    "print(\"Original DataFrame:\\n\",x)\n",
    "print(\"\\nNan with time fill:\")\n",
    "print(x['One'].isnull())"
   ]
  },
  {
   "cell_type": "code",
   "execution_count": 48,
   "id": "668e5cdf",
   "metadata": {
    "scrolled": true
   },
   "outputs": [
    {
     "name": "stdout",
     "output_type": "stream",
     "text": [
      "Nan-filled with Background Values:\n",
      "\n",
      "        One       Two     Three\n",
      "a  0.649947  0.568017  0.331999\n",
      "b  0.094055 -0.691737 -0.388570\n",
      "c  0.094055 -0.691737 -0.388570\n",
      "d -0.381560  0.737908 -0.151570\n",
      "e -0.226176  1.057405  0.596496\n",
      "f -0.226176  1.057405  0.596496\n"
     ]
    },
    {
     "name": "stderr",
     "output_type": "stream",
     "text": [
      "/var/folders/1n/gl1krczj1y58m5tm4xz0t6740000gp/T/ipykernel_930/2045581279.py:2: FutureWarning: DataFrame.fillna with 'method' is deprecated and will raise in a future version. Use obj.ffill() or obj.bfill() instead.\n",
      "  print(x.fillna(method='bfill'))\n"
     ]
    }
   ],
   "source": [
    "\n",
    "print(\"Nan-filled with Background Values:\\n\")\n",
    "print(x.fillna(method='bfill'))"
   ]
  },
  {
   "cell_type": "code",
   "execution_count": 49,
   "id": "097d36ad",
   "metadata": {},
   "outputs": [
    {
     "name": "stdout",
     "output_type": "stream",
     "text": [
      "Nan-filled with Forward Values:\n",
      "\n",
      "        One       Two     Three\n",
      "a  0.649947  0.568017  0.331999\n",
      "b  0.649947  0.568017  0.331999\n",
      "c  0.094055 -0.691737 -0.388570\n",
      "d -0.381560  0.737908 -0.151570\n",
      "e -0.381560  0.737908 -0.151570\n",
      "f -0.226176  1.057405  0.596496\n"
     ]
    },
    {
     "name": "stderr",
     "output_type": "stream",
     "text": [
      "/var/folders/1n/gl1krczj1y58m5tm4xz0t6740000gp/T/ipykernel_930/4080547741.py:2: FutureWarning: DataFrame.fillna with 'method' is deprecated and will raise in a future version. Use obj.ffill() or obj.bfill() instead.\n",
      "  print(x.fillna(method='ffill'))\n"
     ]
    }
   ],
   "source": [
    "print(\"Nan-filled with Forward Values:\\n\")\n",
    "print(x.fillna(method='ffill'))"
   ]
  },
  {
   "cell_type": "code",
   "execution_count": null,
   "id": "3319d6de",
   "metadata": {},
   "outputs": [],
   "source": []
  }
 ],
 "metadata": {
  "kernelspec": {
   "display_name": "Python 3 (ipykernel)",
   "language": "python",
   "name": "python3"
  },
  "language_info": {
   "codemirror_mode": {
    "name": "ipython",
    "version": 3
   },
   "file_extension": ".py",
   "mimetype": "text/x-python",
   "name": "python",
   "nbconvert_exporter": "python",
   "pygments_lexer": "ipython3",
   "version": "3.11.5"
  }
 },
 "nbformat": 4,
 "nbformat_minor": 5
}
