{
 "cells": [
  {
   "cell_type": "code",
   "execution_count": 34,
   "id": "f66b899f",
   "metadata": {},
   "outputs": [],
   "source": [
    "import pandas as pd\n",
    "pd.set_option('display.max_column',10)"
   ]
  },
  {
   "cell_type": "code",
   "execution_count": 35,
   "id": "0748dab2",
   "metadata": {},
   "outputs": [
    {
     "name": "stdout",
     "output_type": "stream",
     "text": [
      "   Unnamed: 0.4  Unnamed: 0.3  Unnamed: 0.2  Unnamed: 0.1  Unnamed: 0  ...  \\\n",
      "0             0             0             0             0           0  ...   \n",
      "1             1             1             1             1           1  ...   \n",
      "2             2             2             2             2           2  ...   \n",
      "3             3             3             3             3           3  ...   \n",
      "4             4             4             4             4           4  ...   \n",
      "5             5             5             5             5           5  ...   \n",
      "6             6             6             6             6           6  ...   \n",
      "7             7             7             7             7           7  ...   \n",
      "8             8             8             8             8           8  ...   \n",
      "9             9             9             9             9           9  ...   \n",
      "\n",
      "   Eng  Maths Science  Social  Total  \n",
      "0   80     90      69      55    358  \n",
      "1   98     55      92      76    374  \n",
      "2   98     55      94      76    374  \n",
      "3   84     90      94      64    374  \n",
      "4   84     90      94      64    374  \n",
      "5   90     56      70      83    374  \n",
      "6   90     56      99      83    374  \n",
      "7   66     77      99      62    374  \n",
      "8   91     77      94      62    374  \n",
      "9   83     59      94      55    374  \n",
      "\n",
      "[10 rows x 13 columns]\n"
     ]
    }
   ],
   "source": [
    "df=pd.read_excel(\"marksheet EEE.xlsx\")\n",
    "print(df)"
   ]
  },
  {
   "cell_type": "code",
   "execution_count": 36,
   "id": "3f81b833",
   "metadata": {},
   "outputs": [
    {
     "name": "stdout",
     "output_type": "stream",
     "text": [
      "   Unnamed: 0.4  Unnamed: 0.3  Unnamed: 0.2  Unnamed: 0.1  Unnamed: 0  ...  \\\n",
      "0             0             0             0             0           0  ...   \n",
      "1             1             1             1             1           1  ...   \n",
      "2             2             2             2             2           2  ...   \n",
      "3             3             3             3             3           3  ...   \n",
      "4             4             4             4             4           4  ...   \n",
      "5             5             5             5             5           5  ...   \n",
      "6             6             6             6             6           6  ...   \n",
      "7             7             7             7             7           7  ...   \n",
      "8             8             8             8             8           8  ...   \n",
      "9             9             9             9             9           9  ...   \n",
      "\n",
      "   Eng  Maths Science  Social  Total  \n",
      "0   80     90      69      55    358  \n",
      "1   98     55      92      76    374  \n",
      "2   98     55      94      76    374  \n",
      "3   84     90      94      64    374  \n",
      "4   84     90      94      64    374  \n",
      "5   90     56      70      83    374  \n",
      "6   90     56      99      83    374  \n",
      "7   66     77      99      62    374  \n",
      "8   91     77      94      62    374  \n",
      "9   83     59      94      55    374  \n",
      "\n",
      "[10 rows x 13 columns]\n",
      "\n",
      " updated line \n",
      "\n"
     ]
    },
    {
     "name": "stderr",
     "output_type": "stream",
     "text": [
      "/var/folders/1n/gl1krczj1y58m5tm4xz0t6740000gp/T/ipykernel_1113/1261798097.py:1: FutureWarning: DataFrame.fillna with 'method' is deprecated and will raise in a future version. Use obj.ffill() or obj.bfill() instead.\n",
      "  k=df.fillna(method='pad')\n"
     ]
    }
   ],
   "source": [
    "k=df.fillna(method='pad')\n",
    "print(k)\n",
    "print(\"\\n updated line \\n\")\n",
    "k.to_excel(\"marksheet EEE.xlsx\")"
   ]
  },
  {
   "cell_type": "code",
   "execution_count": 37,
   "id": "7fd1d324",
   "metadata": {},
   "outputs": [
    {
     "name": "stdout",
     "output_type": "stream",
     "text": [
      "   Unnamed: 0.4  Unnamed: 0.3  Unnamed: 0.1  Unnamed: 0  S.no  ...     Name   \\\n",
      "0             0             0             0           0     1  ...      Bala   \n",
      "1             1             1             1           1     2  ...    Balaji   \n",
      "2             2             2             2           2     3  ...    Barath   \n",
      "3             3             3             3           3     4  ...   Bharath   \n",
      "4             4             4             4           4     5  ...    Bhavan   \n",
      "5             5             5             5           5     6  ...    Bhavya   \n",
      "6             6             6             6           6     7  ...   Chandra   \n",
      "7             7             7             7           7     8  ...  Chelliah   \n",
      "8             8             8             8           8     9  ...   Deepika   \n",
      "9             9             9             9           9    10  ...     Diana   \n",
      "\n",
      "  Maths  Science  Social  Total  \n",
      "0    90       69      55    358  \n",
      "1    55       92      76    374  \n",
      "2    55       94      76    374  \n",
      "3    90       94      64    374  \n",
      "4    90       94      64    374  \n",
      "5    56       70      83    374  \n",
      "6    56       99      83    374  \n",
      "7    77       99      62    374  \n",
      "8    77       94      62    374  \n",
      "9    59       94      55    374  \n",
      "\n",
      "[10 rows x 11 columns]\n"
     ]
    }
   ],
   "source": [
    "k.drop(['Eng'],axis=1,inplace=True)\n",
    "\n",
    "print(k)\n",
    "k.to_excel(\"marksheet EEE.xlsx\")"
   ]
  },
  {
   "cell_type": "code",
   "execution_count": 38,
   "id": "40b3fcc4",
   "metadata": {},
   "outputs": [
    {
     "name": "stdout",
     "output_type": "stream",
     "text": [
      "\n",
      " Drop Nan row \n",
      "\n",
      "   Unnamed: 0.1  Unnamed: 0  S.no  Roll number   Name   ...  Tamil  Maths  \\\n",
      "0             0           0     1           10    Bala  ...     65     89   \n",
      "1             1           1     2           11  Balaji  ...     53     55   \n",
      "\n",
      "   Science  Social  Total  \n",
      "0       69      55    358  \n",
      "1       92      76    374  \n",
      "\n",
      "[2 rows x 11 columns]\n",
      "   Unnamed: 0.1  Unnamed: 0  S.no  Roll number   Name   ...  Tamil  Maths  \\\n",
      "0             0           0     1           10    Bala  ...     65     89   \n",
      "1             1           1     2           11  Balaji  ...     53     55   \n",
      "\n",
      "   Science  Social  Total  \n",
      "0       69      55    358  \n",
      "1       92      76    374  \n",
      "\n",
      "[2 rows x 11 columns]\n"
     ]
    }
   ],
   "source": [
    "print(\"\\n Drop Nan row \\n\")\n",
    "df=pd.read_excel(\"marksheet EEE1.xlsx\")\n",
    "print(df)\n",
    "x=df.dropna()\n",
    "print(x)\n",
    "x.to_excel(\"marksheet EEE1.xlsx\")"
   ]
  },
  {
   "cell_type": "code",
   "execution_count": 39,
   "id": "cb2394b9",
   "metadata": {},
   "outputs": [
    {
     "name": "stdout",
     "output_type": "stream",
     "text": [
      "\n",
      " Replace Values \n",
      "\n",
      "   Unnamed: 0.2  Unnamed: 0.4  Unnamed: 0.3  Unnamed: 0.1  Unnamed: 0  ...  \\\n",
      "0             0             0             0             0           0  ...   \n",
      "1             1             1             1             1           1  ...   \n",
      "2             2             2             2             2           2  ...   \n",
      "3             3             3             3             3           3  ...   \n",
      "4             4             4             4             4           4  ...   \n",
      "5             5             5             5             5           5  ...   \n",
      "6             6             6             6             6           6  ...   \n",
      "7             7             7             7             7           7  ...   \n",
      "8             8             8             8             8           8  ...   \n",
      "9             9             9             9             9           9  ...   \n",
      "\n",
      "      Name   Maths Science  Social  Total  \n",
      "0      Bala     90      69      55    358  \n",
      "1    Balaji     55      92      76    374  \n",
      "2    Barath     55      94      76    374  \n",
      "3   Bharath     90      94      64    374  \n",
      "4    Bhavan     90      94      64    374  \n",
      "5    Bhavya     56      70      83    374  \n",
      "6   Chandra     56      99      83    374  \n",
      "7  Chelliah     77      99      62    374  \n",
      "8   Deepika     77      94      62    374  \n",
      "9     Diana     59      94      55    374  \n",
      "\n",
      "[10 rows x 12 columns]\n",
      "   Unnamed: 0.2  Unnamed: 0.4  Unnamed: 0.3  Unnamed: 0.1  Unnamed: 0  ...  \\\n",
      "0             0             0             0             0           0  ...   \n",
      "1             1             1             1             1           1  ...   \n",
      "2             2             2             2             2           2  ...   \n",
      "3             3             3             3             3           3  ...   \n",
      "4             4             4             4             4           4  ...   \n",
      "5             5             5             5             5           5  ...   \n",
      "6             6             6             6             6           6  ...   \n",
      "7             7             7             7             7           7  ...   \n",
      "8             8             8             8             8           8  ...   \n",
      "9             9             9             9             9           9  ...   \n",
      "\n",
      "      Name   Maths Science  Social  Total  \n",
      "0      Bala     90      69      55    358  \n",
      "1    Balaji     55      92      76    374  \n",
      "2    Barath     55      94      76    374  \n",
      "3   Bharath     90      94      64    374  \n",
      "4    Bhavan     90      94      64    374  \n",
      "5    Bhavya     56      70      83    374  \n",
      "6   Chandra     56      99      83    374  \n",
      "7  Chelliah     77      99      62    374  \n",
      "8   Deepika     77      94      62    374  \n",
      "9     Diana     59      94      55    374  \n",
      "\n",
      "[10 rows x 12 columns]\n"
     ]
    }
   ],
   "source": [
    "print(\"\\n Replace Values \\n\")\n",
    "n=pd.read_excel(\"marksheet EEE.xlsx\")\n",
    "print(n)\n",
    "y=n.replace({89.0:90})\n",
    "print(y)\n",
    "y.to_excel(\"marksheet EEE.xlsx\")"
   ]
  },
  {
   "cell_type": "code",
   "execution_count": 42,
   "id": "c3fbbc02",
   "metadata": {},
   "outputs": [
    {
     "name": "stdout",
     "output_type": "stream",
     "text": [
      "   S.no  Roll number     Name   Maths  Science  Social  Total\n",
      "0     1           10      Bala     90       69      55    358\n",
      "1     2           11    Balaji     55       92      76    374\n",
      "2     3           12    Barath     55       94      76    374\n",
      "3     4           13   Bharath     90       94      64    374\n",
      "4     5           14    Bhavan     90       94      64    374\n",
      "5     6           15    Bhavya     56       70      83    374\n",
      "6     7           16   Chandra     56       99      83    374\n",
      "7     8           17  Chelliah     77       99      62    374\n",
      "8     9           18   Deepika     77       94      62    374\n",
      "9    10           19     Diana     59       94      55    374\n"
     ]
    }
   ],
   "source": [
    "k.drop(['Unnamed: 0.4'],axis=1,inplace=True)\n",
    "k.drop(['Unnamed: 0.1'],axis=1,inplace=True)\n",
    "k.drop(['Unnamed: 0'],axis=1,inplace=True)\n",
    "\n",
    "print(k)\n",
    "k.to_excel(\"marksheet EEE.xlsx\")\n"
   ]
  },
  {
   "cell_type": "code",
   "execution_count": 46,
   "id": "e6ace320",
   "metadata": {},
   "outputs": [
    {
     "name": "stdout",
     "output_type": "stream",
     "text": [
      "   Unnamed: 0  S.no  Roll number     Name   Maths  Science  Social  Total\n",
      "0           0     1           10      Bala     90       69      55    358\n",
      "1           1     2           11    Balaji     55       92      76    374\n",
      "2           2     3           12    Barath     55       94      76    374\n",
      "3           3     4           13   Bharath     90       94      64    374\n",
      "4           4     5           14    Bhavan     90       94      64    374\n",
      "5           5     6           15    Bhavya     56       70      83    374\n",
      "6           6     7           16   Chandra     56       99      83    374\n",
      "7           7     8           17  Chelliah     77       99      62    374\n",
      "8           8     9           18   Deepika     77       94      62    374\n",
      "9           9    10           19     Diana     59       94      55    374\n",
      "\n",
      " Extract using isin() function \n",
      "\n",
      "   Unnamed: 0  S.no  Roll number    Name   Maths  Science  Social  Total\n",
      "2           2     3           12   Barath     55       94      76    374\n",
      "3           3     4           13  Bharath     90       94      64    374\n",
      "4           4     5           14   Bhavan     90       94      64    374\n",
      "8           8     9           18  Deepika     77       94      62    374\n",
      "9           9    10           19    Diana     59       94      55    374\n"
     ]
    }
   ],
   "source": [
    "df=pd.read_excel(\"marksheet EEE.xlsx\")\n",
    "print(df)\n",
    "print(\"\\n Extract using isin() function \\n\")\n",
    "new=df['Science'].isin([94])\n",
    "print(df[new])"
   ]
  },
  {
   "cell_type": "code",
   "execution_count": null,
   "id": "b57c070e",
   "metadata": {},
   "outputs": [],
   "source": []
  }
 ],
 "metadata": {
  "kernelspec": {
   "display_name": "Python 3 (ipykernel)",
   "language": "python",
   "name": "python3"
  },
  "language_info": {
   "codemirror_mode": {
    "name": "ipython",
    "version": 3
   },
   "file_extension": ".py",
   "mimetype": "text/x-python",
   "name": "python",
   "nbconvert_exporter": "python",
   "pygments_lexer": "ipython3",
   "version": "3.11.5"
  }
 },
 "nbformat": 4,
 "nbformat_minor": 5
}
