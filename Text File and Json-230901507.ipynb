{
 "cells": [
  {
   "cell_type": "code",
   "execution_count": 2,
   "id": "082460c9",
   "metadata": {},
   "outputs": [],
   "source": [
    "f=open(\"D:\\Bala.txt\",\"w\")\n",
    "f.write(\"Wakeup early\\nRead Daily\\nPray to god\\n\")\n",
    "f.close()"
   ]
  },
  {
   "cell_type": "code",
   "execution_count": 3,
   "id": "1e4a62d6",
   "metadata": {},
   "outputs": [
    {
     "name": "stdout",
     "output_type": "stream",
     "text": [
      "Wakeup early\n",
      "\n",
      "Read Daily\n",
      "\n",
      "Pray to god\n",
      "\n"
     ]
    }
   ],
   "source": [
    "a=open(\"D:\\Bala.txt\",\"r\")\n",
    "print(a.readline())\n",
    "print(a.readline())\n",
    "print(a.readline())\n",
    "a.close()"
   ]
  },
  {
   "cell_type": "code",
   "execution_count": 4,
   "id": "7b080cee",
   "metadata": {},
   "outputs": [
    {
     "name": "stdout",
     "output_type": "stream",
     "text": [
      "Wakeup early\n",
      "Read Daily\n",
      "Pray to god\n",
      "Help others\n",
      "Be smart\n",
      "\n"
     ]
    }
   ],
   "source": [
    "b=open(\"D:\\Bala.txt\",\"a\")\n",
    "b.write(\"Help others\\nBe smart\\n\")\n",
    "b.close()\n",
    "c=open(\"D:\\Bala.txt\",\"r\")\n",
    "print(c.read())\n",
    "c.close()"
   ]
  },
  {
   "cell_type": "code",
   "execution_count": 5,
   "id": "481f2eb7",
   "metadata": {},
   "outputs": [
    {
     "name": "stdout",
     "output_type": "stream",
     "text": [
      "['Wakeup early\\n', 'Read Daily\\n', 'Pray to god\\n', 'Help others\\n', 'Be smart\\n']\n"
     ]
    }
   ],
   "source": [
    "with open(\"D:\\Bala.txt\",\"r\")as file:\n",
    "    lines=file.readlines()\n",
    "    print(lines)"
   ]
  },
  {
   "cell_type": "code",
   "execution_count": 6,
   "id": "1912676f",
   "metadata": {},
   "outputs": [
    {
     "name": "stdout",
     "output_type": "stream",
     "text": [
      "madurai\n"
     ]
    }
   ],
   "source": [
    "import json\n",
    "X='{\"name\":\"balaji\",\"age\":20,\"city\":\"madurai\"}'\n",
    "Y=json.loads(X)\n",
    "print(Y[\"city\"])"
   ]
  },
  {
   "cell_type": "code",
   "execution_count": 7,
   "id": "588b08c3",
   "metadata": {},
   "outputs": [
    {
     "name": "stdout",
     "output_type": "stream",
     "text": [
      "\"{\\\"name\\\":\\\"balaji\\\",\\\"age\\\":20,\\\"city\\\":\\\"madurai\\\"}\"\n"
     ]
    }
   ],
   "source": [
    "Y=json.dumps(X)\n",
    "print(Y)"
   ]
  },
  {
   "cell_type": "code",
   "execution_count": null,
   "id": "aa01389b",
   "metadata": {},
   "outputs": [],
   "source": []
  }
 ],
 "metadata": {
  "kernelspec": {
   "display_name": "Python 3 (ipykernel)",
   "language": "python",
   "name": "python3"
  },
  "language_info": {
   "codemirror_mode": {
    "name": "ipython",
    "version": 3
   },
   "file_extension": ".py",
   "mimetype": "text/x-python",
   "name": "python",
   "nbconvert_exporter": "python",
   "pygments_lexer": "ipython3",
   "version": "3.11.3"
  }
 },
 "nbformat": 4,
 "nbformat_minor": 5
}
