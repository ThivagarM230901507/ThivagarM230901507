{
 "cells": [
  {
   "cell_type": "code",
   "execution_count": null,
   "id": "e2bd16fe",
   "metadata": {},
   "outputs": [],
   "source": [
    "import pandas as pd\n",
    "import numpy as np\n",
    "print(\"DataFrame.apply functions:\\n\")\n",
    "info=pd.DataFrame([[3,4]]*4,columns=['s','r'])\n",
    "print(\"\\n original DataFrame:\\n\",info)\n",
    "print(\"\\n Square root of DataFrame:\\n\")"
   ]
  }
 ],
 "metadata": {
  "kernelspec": {
   "display_name": "Python 3 (ipykernel)",
   "language": "python",
   "name": "python3"
  },
  "language_info": {
   "codemirror_mode": {
    "name": "ipython",
    "version": 3
   },
   "file_extension": ".py",
   "mimetype": "text/x-python",
   "name": "python",
   "nbconvert_exporter": "python",
   "pygments_lexer": "ipython3",
   "version": "3.11.5"
  }
 },
 "nbformat": 4,
 "nbformat_minor": 5
}
