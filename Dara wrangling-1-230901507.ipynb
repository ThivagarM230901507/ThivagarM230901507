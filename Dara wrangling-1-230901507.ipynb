{
 "cells": [
  {
   "cell_type": "code",
   "execution_count": 3,
   "id": "bd34a965",
   "metadata": {},
   "outputs": [
    {
     "name": "stdout",
     "output_type": "stream",
     "text": [
      "DF1:\n",
      "   name  age\n",
      "0  sai   20\n",
      "1  sub   21\n",
      "2  poo   22\n",
      "DF2:\n",
      "    qualified\n",
      "0       True\n",
      "1       True\n",
      "2      False\n"
     ]
    }
   ],
   "source": [
    "import pandas as pd \n",
    "d1={ \"name\":[\"sai\",\"sub\",\"poo\"], \"age\":[20,21,22]} \n",
    "d2={ \"qualified\":[True,True,False] } \n",
    "df1=pd.DataFrame(d1) \n",
    "print(\"DF1:\\n\",df1) \n",
    "df2=pd.DataFrame(d2) \n",
    "print(\"DF2:\\n\",df2) \n",
    "\n"
   ]
  },
  {
   "cell_type": "code",
   "execution_count": 4,
   "id": "568c122c",
   "metadata": {},
   "outputs": [
    {
     "name": "stdout",
     "output_type": "stream",
     "text": [
      "Joining:\n",
      "   name  age  qualified\n",
      "0  sai   20       True\n",
      "1  sub   21       True\n",
      "2  poo   22      False\n"
     ]
    }
   ],
   "source": [
    "newdf=df1.join(df2) \n",
    "print(\"Joining:\\n\",newdf) "
   ]
  },
  {
   "cell_type": "code",
   "execution_count": 5,
   "id": "3c915763",
   "metadata": {},
   "outputs": [
    {
     "name": "stdout",
     "output_type": "stream",
     "text": [
      "DF1:\n",
      "    Name  Age\n",
      "0   Sai   20\n",
      "1   Sri   23\n",
      "2  Pavi   21\n",
      "\n",
      "DF2:\n",
      "       Name  Age\n",
      "0     Yuvi   20\n",
      "1  Rithika   21\n",
      "2   Sanjay   22\n"
     ]
    }
   ],
   "source": [
    "import pandas as pd\n",
    "a={\"Name\":[\"Sai\",\"Sri\",\"Pavi\"],\"Age\":[20,23,21]}\n",
    "b={\"Name\":[\"Yuvi\",\"Rithika\",\"Sanjay\"],\"Age\":[20,21,22]}\n",
    "c=pd.DataFrame(a)\n",
    "print(\"DF1:\\n\",c)\n",
    "d=pd.DataFrame(b)\n",
    "print(\"\\nDF2:\\n\",d)\n"
   ]
  },
  {
   "cell_type": "code",
   "execution_count": 6,
   "id": "575ac256",
   "metadata": {},
   "outputs": [
    {
     "name": "stdout",
     "output_type": "stream",
     "text": [
      "  Name_x  Age   Name_y\n",
      "0    Sai   20     Yuvi\n",
      "1   Pavi   21  Rithika\n"
     ]
    }
   ],
   "source": [
    "newdf=c.merge(d,on='Age')\n",
    "print(newdf)\n"
   ]
  },
  {
   "cell_type": "code",
   "execution_count": 7,
   "id": "61068a63",
   "metadata": {},
   "outputs": [
    {
     "name": "stdout",
     "output_type": "stream",
     "text": [
      "  Team  Points  Assists  Rebounds\n",
      "0    A      90       12        56\n",
      "1    B      56       34        43\n",
      "2    C      78       23        55\n",
      "3    D      88       44        12\n",
      "\n",
      "Reshaped DataFrame:\n",
      "    Team  variable  value\n",
      "0     A    Points     90\n",
      "1     B    Points     56\n",
      "2     C    Points     78\n",
      "3     D    Points     88\n",
      "4     A   Assists     12\n",
      "5     B   Assists     34\n",
      "6     C   Assists     23\n",
      "7     D   Assists     44\n",
      "8     A  Rebounds     56\n",
      "9     B  Rebounds     43\n",
      "10    C  Rebounds     55\n",
      "11    D  Rebounds     12\n"
     ]
    }
   ],
   "source": [
    "df=pd.DataFrame({\"Team\":[\"A\",\"B\",\"C\",\"D\"], \"Points\":[90,56,78,88], \"Assists\":[12,34,23,44], \"Rebounds\":[56,43,55,12]})\n",
    "print(df)\n",
    "df=pd.melt(df,id_vars='Team',value_vars=['Points','Assists','Rebounds'])\n",
    "print(\"\\nReshaped DataFrame:\\n\",df)\n"
   ]
  },
  {
   "cell_type": "code",
   "execution_count": null,
   "id": "082b5853",
   "metadata": {},
   "outputs": [],
   "source": []
  }
 ],
 "metadata": {
  "kernelspec": {
   "display_name": "Python 3 (ipykernel)",
   "language": "python",
   "name": "python3"
  },
  "language_info": {
   "codemirror_mode": {
    "name": "ipython",
    "version": 3
   },
   "file_extension": ".py",
   "mimetype": "text/x-python",
   "name": "python",
   "nbconvert_exporter": "python",
   "pygments_lexer": "ipython3",
   "version": "3.11.5"
  }
 },
 "nbformat": 4,
 "nbformat_minor": 5
}
