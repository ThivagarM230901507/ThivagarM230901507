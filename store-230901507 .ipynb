{
 "cells": [
  {
   "cell_type": "code",
   "execution_count": 15,
   "id": "d1aad5d2",
   "metadata": {},
   "outputs": [
    {
     "name": "stdout",
     "output_type": "stream",
     "text": [
      "       a  b  c\n",
      "One    1  2  3\n",
      "Two    4  5  6\n",
      "Three  7  8  9\n"
     ]
    }
   ],
   "source": [
    "import pandas as pd\n",
    "df=pd.DataFrame([[1,2,3],[4,5,6],[7,8,9]],index=['One','Two','Three'],columns=['a','b','c'])\n",
    "print(df)\n"
   ]
  },
  {
   "cell_type": "code",
   "execution_count": 16,
   "id": "2fb3f752",
   "metadata": {},
   "outputs": [],
   "source": [
    "df.to_excel(\"D:\\Barath.xlsx\")\n",
    "df.to_excel(\"D:\\Balaj Bhavan.xlsx\")"
   ]
  },
  {
   "cell_type": "code",
   "execution_count": 17,
   "id": "ac7f9fda",
   "metadata": {},
   "outputs": [],
   "source": [
    "df=pd.DataFrame([[10,20,30],[40,50,60],[70,80,90]],index=['Four','Five','Six'],columns=['X','Y','Z'])\n",
    "df.to_excel(\"D:\\Barath.xlsx\",sheet_name=\"Mark\")"
   ]
  },
  {
   "cell_type": "code",
   "execution_count": 21,
   "id": "52ffc627",
   "metadata": {},
   "outputs": [],
   "source": [
    "x=pd.read_excel(\"D:\\Barath.xlsx\")\n",
    "y=pd.read_excel(\"D:\\Balaj Bhavan.xlsx\")\n",
    "z=pd.concat([x,y])\n",
    "z.to_excel(\"D:\\Aakan.xlsx\")"
   ]
  },
  {
   "cell_type": "code",
   "execution_count": 22,
   "id": "20e0199d",
   "metadata": {},
   "outputs": [
    {
     "name": "stdout",
     "output_type": "stream",
     "text": [
      "  Unnamed: 0     X     Y     Z    a    b    c\n",
      "0       Four  10.0  20.0  30.0  NaN  NaN  NaN\n",
      "1       Five  40.0  50.0  60.0  NaN  NaN  NaN\n",
      "2        Six  70.0  80.0  90.0  NaN  NaN  NaN\n",
      "0        One   NaN   NaN   NaN  1.0  2.0  3.0\n",
      "1        Two   NaN   NaN   NaN  4.0  5.0  6.0\n",
      "2      Three   NaN   NaN   NaN  7.0  8.0  9.0\n",
      "  Unnamed: 0   X   Y   Z\n",
      "0       Four  10  20  30\n",
      "1       Five  40  50  60\n",
      "2        Six  70  80  90\n",
      "['Unnamed: 0', 'X', 'Y', 'Z']\n",
      "3\n"
     ]
    }
   ],
   "source": [
    "df=z.sort_values([\"X\"])\n",
    "print(df)\n",
    "df.to_excel(\"D:\\Aakan.xlsx\")\n",
    "df=pd.read_excel(\"D:\\Barath.xlsx\")\n",
    "print(df)\n",
    "print(list(df))\n",
    "print(format(len(df)))"
   ]
  },
  {
   "cell_type": "code",
   "execution_count": null,
   "id": "44972960",
   "metadata": {},
   "outputs": [],
   "source": []
  }
 ],
 "metadata": {
  "kernelspec": {
   "display_name": "Python 3 (ipykernel)",
   "language": "python",
   "name": "python3"
  },
  "language_info": {
   "codemirror_mode": {
    "name": "ipython",
    "version": 3
   },
   "file_extension": ".py",
   "mimetype": "text/x-python",
   "name": "python",
   "nbconvert_exporter": "python",
   "pygments_lexer": "ipython3",
   "version": "3.11.3"
  }
 },
 "nbformat": 4,
 "nbformat_minor": 5
}
