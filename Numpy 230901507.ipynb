{
 "cells": [
  {
   "cell_type": "code",
   "execution_count": 8,
   "id": "ed7ee4d2",
   "metadata": {},
   "outputs": [],
   "source": [
    "import numpy as np\n",
    "a=np.array([10,20,30,40,50])\n",
    "b=np.array([[10,20,30,40,50],[60,70,80,90,99]])\n"
   ]
  },
  {
   "cell_type": "code",
   "execution_count": 9,
   "id": "6c8fb2bb",
   "metadata": {},
   "outputs": [
    {
     "name": "stdout",
     "output_type": "stream",
     "text": [
      "One dimensional array  [10 20 30 40 50]\n"
     ]
    }
   ],
   "source": [
    "print(\"One dimensional array \",a)"
   ]
  },
  {
   "cell_type": "code",
   "execution_count": 10,
   "id": "4313b10a",
   "metadata": {},
   "outputs": [
    {
     "name": "stdout",
     "output_type": "stream",
     "text": [
      "Two dimensional array  [[10 20 30 40 50]\n",
      " [60 70 80 90 99]]\n"
     ]
    }
   ],
   "source": [
    "print(\"Two dimensional array \",b)\n"
   ]
  },
  {
   "cell_type": "code",
   "execution_count": 11,
   "id": "7784428e",
   "metadata": {},
   "outputs": [],
   "source": [
    "c=np.zeros((3,4))\n"
   ]
  },
  {
   "cell_type": "code",
   "execution_count": 12,
   "id": "a56418da",
   "metadata": {},
   "outputs": [
    {
     "name": "stdout",
     "output_type": "stream",
     "text": [
      "Array with all Zeros \n",
      " [[0. 0. 0. 0.]\n",
      " [0. 0. 0. 0.]\n",
      " [0. 0. 0. 0.]]\n"
     ]
    }
   ],
   "source": [
    "print(\"Array with all Zeros \\n\",c)\n"
   ]
  },
  {
   "cell_type": "code",
   "execution_count": 13,
   "id": "fc4e9ba5",
   "metadata": {},
   "outputs": [],
   "source": [
    "d=np.random.random((3,4))\n"
   ]
  },
  {
   "cell_type": "code",
   "execution_count": 14,
   "id": "f14cef81",
   "metadata": {},
   "outputs": [
    {
     "name": "stdout",
     "output_type": "stream",
     "text": [
      "Array with random numbers \n",
      " [[0.60994938 0.21470384 0.1746524  0.52948696]\n",
      " [0.86818321 0.78433101 0.21262207 0.76323322]\n",
      " [0.35406255 0.13456493 0.46551034 0.69319471]]\n"
     ]
    }
   ],
   "source": [
    "print(\"Array with random numbers \\n\",d)\n"
   ]
  },
  {
   "cell_type": "code",
   "execution_count": 15,
   "id": "e49da905",
   "metadata": {},
   "outputs": [],
   "source": [
    "e=np.arange(0,10,1)\n"
   ]
  },
  {
   "cell_type": "code",
   "execution_count": 16,
   "id": "7009917b",
   "metadata": {},
   "outputs": [
    {
     "name": "stdout",
     "output_type": "stream",
     "text": [
      "Array with range value \n",
      " [0 1 2 3 4 5 6 7 8 9]\n"
     ]
    }
   ],
   "source": [
    "print(\"Array with range value \\n\",e)\n"
   ]
  },
  {
   "cell_type": "code",
   "execution_count": 17,
   "id": "8c66d434",
   "metadata": {},
   "outputs": [],
   "source": [
    "f=np.array([[1,2,3,0],[7,5,9,8],[4,8,6,2]])\n",
    "g=f.reshape((4,3))"
   ]
  },
  {
   "cell_type": "code",
   "execution_count": 18,
   "id": "208023f7",
   "metadata": {},
   "outputs": [
    {
     "name": "stdout",
     "output_type": "stream",
     "text": [
      "Original array : \n",
      " [[1 2 3 0]\n",
      " [7 5 9 8]\n",
      " [4 8 6 2]]\n",
      "\n",
      " Reshaped array : \n",
      " [[1 2 3]\n",
      " [0 7 5]\n",
      " [9 8 4]\n",
      " [8 6 2]]\n"
     ]
    }
   ],
   "source": [
    "print(\"Original array : \\n\",f)\n",
    "print(\"\\n Reshaped array : \\n\",g)"
   ]
  },
  {
   "cell_type": "code",
   "execution_count": 19,
   "id": "26f40357",
   "metadata": {},
   "outputs": [],
   "source": [
    "h=np.zeros((5,3))\n",
    "i=np.random.random((5,3))\n",
    "j=np.array([[1,2,3,0,4],[7,5,9,6,8],[5,4,8,6,2]])\n",
    "k=j.reshape((5,3))\n",
    "l=np.arange(0,100,10)\n",
    "\n"
   ]
  },
  {
   "cell_type": "code",
   "execution_count": 20,
   "id": "9fceea95",
   "metadata": {},
   "outputs": [
    {
     "name": "stdout",
     "output_type": "stream",
     "text": [
      "Array with all Zeros \n",
      " [[0. 0. 0.]\n",
      " [0. 0. 0.]\n",
      " [0. 0. 0.]\n",
      " [0. 0. 0.]\n",
      " [0. 0. 0.]]\n",
      "Array with random numbers \n",
      " [[0.52378274 0.89046846 0.26124406]\n",
      " [0.55660786 0.39429591 0.74915619]\n",
      " [0.55491414 0.63760224 0.15118066]\n",
      " [0.87225478 0.57538754 0.30431509]\n",
      " [0.29958489 0.70512316 0.66183298]]\n",
      "Original array : \n",
      " [[1 2 3]\n",
      " [0 4 7]\n",
      " [5 9 6]\n",
      " [8 5 4]\n",
      " [8 6 2]]\n",
      "\n",
      " Reshaped array : \n",
      " [[1 2 3 0 4]\n",
      " [7 5 9 6 8]\n",
      " [5 4 8 6 2]]\n",
      "Array with range value \n",
      " [ 0 10 20 30 40 50 60 70 80 90]\n"
     ]
    }
   ],
   "source": [
    "print(\"Array with all Zeros \\n\",h)\n",
    "print(\"Array with random numbers \\n\",i)\n",
    "print(\"Original array : \\n\",k)\n",
    "print(\"\\n Reshaped array : \\n\",j)\n",
    "print(\"Array with range value \\n\",l)\n",
    "\n",
    "\n"
   ]
  },
  {
   "cell_type": "code",
   "execution_count": 21,
   "id": "413a53cc",
   "metadata": {},
   "outputs": [
    {
     "name": "stdout",
     "output_type": "stream",
     "text": [
      "Flattend array : [1 2 3 0 4 7 5 9 6 8 5 4 8 6 2]\n"
     ]
    }
   ],
   "source": [
    "flat=j.flatten()\n",
    "print(\"Flattend array :\",flat)"
   ]
  },
  {
   "cell_type": "code",
   "execution_count": 22,
   "id": "ce2b4c2e",
   "metadata": {},
   "outputs": [
    {
     "name": "stdout",
     "output_type": "stream",
     "text": [
      "No.of dimensions:  2\n"
     ]
    }
   ],
   "source": [
    "print(\"No.of dimensions: \",j.ndim)"
   ]
  },
  {
   "cell_type": "code",
   "execution_count": 23,
   "id": "6d3e1ac0",
   "metadata": {},
   "outputs": [
    {
     "name": "stdout",
     "output_type": "stream",
     "text": [
      "Shape of the array:  (3, 5)\n"
     ]
    }
   ],
   "source": [
    "print(\"Shape of the array: \",j.shape)"
   ]
  },
  {
   "cell_type": "code",
   "execution_count": 24,
   "id": "14f197d4",
   "metadata": {},
   "outputs": [
    {
     "name": "stdout",
     "output_type": "stream",
     "text": [
      "\n",
      " Array element type  int32\n"
     ]
    }
   ],
   "source": [
    "print(\"\\n Array element type \",j.dtype)"
   ]
  },
  {
   "cell_type": "code",
   "execution_count": 31,
   "id": "89fe7c6e",
   "metadata": {
    "scrolled": true
   },
   "outputs": [
    {
     "name": "stdout",
     "output_type": "stream",
     "text": [
      "\n",
      " Convert array element :\n",
      " [[1. 2. 3. 0. 4.]\n",
      " [7. 5. 9. 6. 8.]\n",
      " [5. 4. 8. 6. 2.]]\n",
      " Converted array type :  float32\n"
     ]
    }
   ],
   "source": [
    "newtype=j.astype('f')\n",
    "print(\"\\n Convert array element :\\n\",newtype)\n",
    "print(\" Converted array type : \",newtype.dtype)"
   ]
  },
  {
   "cell_type": "code",
   "execution_count": 41,
   "id": "1d844df0",
   "metadata": {},
   "outputs": [
    {
     "name": "stdout",
     "output_type": "stream",
     "text": [
      "Size of the array:  15\n"
     ]
    }
   ],
   "source": [
    "print(\"Size of the array: \",j.size)"
   ]
  },
  {
   "cell_type": "code",
   "execution_count": 36,
   "id": "68403e85",
   "metadata": {},
   "outputs": [
    {
     "name": "stdout",
     "output_type": "stream",
     "text": [
      "3\n"
     ]
    }
   ],
   "source": [
    "lj=len(j)\n",
    "print(lj)"
   ]
  },
  {
   "cell_type": "code",
   "execution_count": null,
   "id": "e6dda447",
   "metadata": {},
   "outputs": [],
   "source": []
  }
 ],
 "metadata": {
  "kernelspec": {
   "display_name": "Python 3 (ipykernel)",
   "language": "python",
   "name": "python3"
  },
  "language_info": {
   "codemirror_mode": {
    "name": "ipython",
    "version": 3
   },
   "file_extension": ".py",
   "mimetype": "text/x-python",
   "name": "python",
   "nbconvert_exporter": "python",
   "pygments_lexer": "ipython3",
   "version": "3.11.3"
  }
 },
 "nbformat": 4,
 "nbformat_minor": 5
}
