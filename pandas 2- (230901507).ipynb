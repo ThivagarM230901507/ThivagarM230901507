{
 "cells": [
  {
   "cell_type": "code",
   "execution_count": 34,
   "id": "86415814",
   "metadata": {},
   "outputs": [
    {
     "name": "stdout",
     "output_type": "stream",
     "text": [
      "DataFrame.apply function:\n",
      "\n",
      "\n",
      " Original DataFrame:\n",
      "    S  R\n",
      "0  3  9\n",
      "1  3  9\n",
      "2  3  9\n",
      "3  3  9\n",
      "\n",
      " SquareROOT  of DataFrame:\n",
      "           S    R\n",
      "0  1.732051  3.0\n",
      "1  1.732051  3.0\n",
      "2  1.732051  3.0\n",
      "3  1.732051  3.0\n",
      "\n",
      " sum of each column \n",
      "  S    12\n",
      "R    36\n",
      "dtype: int64\n",
      "\n",
      " sum of each row \n",
      "  0    12\n",
      "1    12\n",
      "2    12\n",
      "3    12\n",
      "dtype: int64\n"
     ]
    }
   ],
   "source": [
    "import pandas as pd\n",
    "import numpy as np\n",
    "print(\"DataFrame.apply function:\\n\")\n",
    "info=pd.DataFrame([[3,9]]*4,columns=['S','R'])\n",
    "print(\"\\n Original DataFrame:\\n\",info)\n",
    "print(\"\\n SquareROOT  of DataFrame:\\n\",info.apply(np.sqrt))\n",
    "print(\"\\n sum of each column \\n \",info.apply(np.sum,axis=0))\n",
    "print(\"\\n sum of each row \\n \",info.apply(np.sum,axis=1))\n",
    "\n"
   ]
  },
  {
   "cell_type": "code",
   "execution_count": 35,
   "id": "b1c610ab",
   "metadata": {},
   "outputs": [
    {
     "name": "stdout",
     "output_type": "stream",
     "text": [
      "   X  Y  Z\n",
      "0  2  4  6\n",
      "1  1  3  5\n",
      "2  5  8  7\n",
      "     S  R\n",
      "min  3  9\n",
      "max  3  9\n"
     ]
    }
   ],
   "source": [
    "info1=pd.DataFrame([[2,4,6],[1,3,5],[5,8,7]],columns=['X','Y','Z'])\n",
    "print(info1)\n",
    "print(info.agg(['min','max']))"
   ]
  },
  {
   "cell_type": "code",
   "execution_count": 36,
   "id": "e40dd880",
   "metadata": {},
   "outputs": [
    {
     "name": "stdout",
     "output_type": "stream",
     "text": [
      "   Emp  Id\n",
      "0  Sai  88\n",
      "1  Poo  70\n"
     ]
    }
   ],
   "source": [
    "d2=pd.DataFrame([['Sai',88],['Poo',70]],columns=['Emp','Id'])\n",
    "print(d2)"
   ]
  },
  {
   "cell_type": "code",
   "execution_count": 37,
   "id": "fa918c4c",
   "metadata": {},
   "outputs": [
    {
     "name": "stdout",
     "output_type": "stream",
     "text": [
      "   Emp  Id  Age\n",
      "0  Sai  88   20\n",
      "1  Poo  70   18\n"
     ]
    }
   ],
   "source": [
    "d2['Age']=[20,18]\n",
    "print(d2)"
   ]
  },
  {
   "cell_type": "code",
   "execution_count": 38,
   "id": "a429a0a8",
   "metadata": {},
   "outputs": [
    {
     "name": "stdout",
     "output_type": "stream",
     "text": [
      "   Emp  Id  Age   Sex\n",
      "0  Sai  88   20  Male\n",
      "1  Poo  70   18  Male\n"
     ]
    }
   ],
   "source": [
    "d=d2.assign(Sex=['Male','Male'])\n",
    "print(d)"
   ]
  },
  {
   "cell_type": "code",
   "execution_count": 39,
   "id": "948df78d",
   "metadata": {},
   "outputs": [
    {
     "name": "stdout",
     "output_type": "stream",
     "text": [
      "       col3      col4\n",
      "3 -0.727141 -0.852260\n",
      "2  0.245636 -1.260749\n",
      "0 -1.321839  0.183477\n",
      "4  0.134829 -0.576374\n",
      "1  1.187787  0.087431\n"
     ]
    }
   ],
   "source": [
    "info3=pd.DataFrame(np.random.randn(5,2),index=[3,2,0,4,1],columns=['col3','col4'])\n",
    "print(info3)"
   ]
  },
  {
   "cell_type": "code",
   "execution_count": 40,
   "id": "ecd55c8c",
   "metadata": {},
   "outputs": [
    {
     "name": "stdout",
     "output_type": "stream",
     "text": [
      "       col3      col4\n",
      "0 -1.321839  0.183477\n",
      "1  1.187787  0.087431\n",
      "2  0.245636 -1.260749\n",
      "3 -0.727141 -0.852260\n",
      "4  0.134829 -0.576374\n"
     ]
    }
   ],
   "source": [
    "info=info3.sort_index()\n",
    "print(info)"
   ]
  },
  {
   "cell_type": "code",
   "execution_count": 41,
   "id": "0f5a6270",
   "metadata": {},
   "outputs": [
    {
     "name": "stdout",
     "output_type": "stream",
     "text": [
      "       col3      col4\n",
      "0 -1.321839  0.183477\n",
      "3 -0.727141 -0.852260\n",
      "4  0.134829 -0.576374\n",
      "2  0.245636 -1.260749\n",
      "1  1.187787  0.087431\n"
     ]
    }
   ],
   "source": [
    "info4=info3.sort_values(by='col3')\n",
    "print(info4)"
   ]
  },
  {
   "cell_type": "code",
   "execution_count": 42,
   "id": "425686e9",
   "metadata": {},
   "outputs": [
    {
     "name": "stdout",
     "output_type": "stream",
     "text": [
      "   Id     Name   Sub\n",
      "0   1     Bala  sub1\n",
      "1   2  Chandra  sub2\n",
      "2   3    Dhana  sub3\n"
     ]
    }
   ],
   "source": [
    "left=pd.DataFrame({'Id':[1,2,3],'Name':['Bala','Chandra','Dhana'],'Sub':['sub1','sub2','sub3']})\n",
    "print(left)"
   ]
  },
  {
   "cell_type": "code",
   "execution_count": 43,
   "id": "c6d77259",
   "metadata": {},
   "outputs": [
    {
     "name": "stdout",
     "output_type": "stream",
     "text": [
      "   Id       Name   Sub\n",
      "0   1       Bals  sub3\n",
      "1   2      Birla  sub4\n",
      "2   3  Motowagon  sub5\n"
     ]
    }
   ],
   "source": [
    "right=pd.DataFrame({'Id':[1,2,3],'Name':['Bals','Birla','Motowagon'],'Sub':['sub3','sub4','sub5']})\n",
    "print(right)\n"
   ]
  },
  {
   "cell_type": "code",
   "execution_count": 44,
   "id": "7f8f3a1e",
   "metadata": {},
   "outputs": [
    {
     "name": "stdout",
     "output_type": "stream",
     "text": [
      "   Id   Name_x Sub_x     Name_y Sub_y\n",
      "0   1     Bala  sub1       Bals  sub3\n",
      "1   2  Chandra  sub2      Birla  sub4\n",
      "2   3    Dhana  sub3  Motowagon  sub5\n"
     ]
    }
   ],
   "source": [
    "print(pd.merge(left,right,on=\"Id\"))\n"
   ]
  },
  {
   "cell_type": "code",
   "execution_count": null,
   "id": "176e8ff9",
   "metadata": {},
   "outputs": [],
   "source": []
  }
 ],
 "metadata": {
  "kernelspec": {
   "display_name": "Python 3 (ipykernel)",
   "language": "python",
   "name": "python3"
  },
  "language_info": {
   "codemirror_mode": {
    "name": "ipython",
    "version": 3
   },
   "file_extension": ".py",
   "mimetype": "text/x-python",
   "name": "python",
   "nbconvert_exporter": "python",
   "pygments_lexer": "ipython3",
   "version": "3.11.5"
  }
 },
 "nbformat": 4,
 "nbformat_minor": 5
}
